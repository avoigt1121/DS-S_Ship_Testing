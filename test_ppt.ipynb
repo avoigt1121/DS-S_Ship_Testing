{
 "cells": [
  {
   "cell_type": "code",
   "execution_count": 1,
   "metadata": {},
   "outputs": [
    {
     "name": "stdout",
     "output_type": "stream",
     "text": [
      "Defaulting to user installation because normal site-packages is not writeable\n",
      "Collecting python-pptx\n",
      "  Downloading python_pptx-0.6.23-py3-none-any.whl.metadata (18 kB)\n",
      "Requirement already satisfied: beautifulsoup4 in /Users/annivoigt/Library/Python/3.9/lib/python/site-packages (4.12.3)\n",
      "Collecting lxml\n",
      "  Downloading lxml-5.2.1-cp39-cp39-macosx_10_9_universal2.whl.metadata (3.4 kB)\n",
      "Collecting Pillow>=3.3.2 (from python-pptx)\n",
      "  Downloading pillow-10.3.0-cp39-cp39-macosx_11_0_arm64.whl.metadata (9.2 kB)\n",
      "Collecting XlsxWriter>=0.5.7 (from python-pptx)\n",
      "  Downloading XlsxWriter-3.2.0-py3-none-any.whl.metadata (2.6 kB)\n",
      "Requirement already satisfied: soupsieve>1.2 in /Users/annivoigt/Library/Python/3.9/lib/python/site-packages (from beautifulsoup4) (2.5)\n",
      "Downloading python_pptx-0.6.23-py3-none-any.whl (471 kB)\n",
      "\u001b[2K   \u001b[90m━━━━━━━━━━━━━━━━━━━━━━━━━━━━━━━━━━━━━━━━\u001b[0m \u001b[32m471.6/471.6 kB\u001b[0m \u001b[31m8.6 MB/s\u001b[0m eta \u001b[36m0:00:00\u001b[0ma \u001b[36m0:00:01\u001b[0m\n",
      "\u001b[?25hDownloading lxml-5.2.1-cp39-cp39-macosx_10_9_universal2.whl (8.5 MB)\n",
      "\u001b[2K   \u001b[90m━━━━━━━━━━━━━━━━━━━━━━━━━━━━━━━━━━━━━━━━\u001b[0m \u001b[32m8.5/8.5 MB\u001b[0m \u001b[31m11.8 MB/s\u001b[0m eta \u001b[36m0:00:00\u001b[0ma \u001b[36m0:00:01\u001b[0m\n",
      "\u001b[?25hDownloading pillow-10.3.0-cp39-cp39-macosx_11_0_arm64.whl (3.4 MB)\n",
      "\u001b[2K   \u001b[90m━━━━━━━━━━━━━━━━━━━━━━━━━━━━━━━━━━━━━━━━\u001b[0m \u001b[32m3.4/3.4 MB\u001b[0m \u001b[31m9.1 MB/s\u001b[0m eta \u001b[36m0:00:00\u001b[0ma \u001b[36m0:00:01\u001b[0mm\n",
      "\u001b[?25hDownloading XlsxWriter-3.2.0-py3-none-any.whl (159 kB)\n",
      "\u001b[2K   \u001b[90m━━━━━━━━━━━━━━━━━━━━━━━━━━━━━━━━━━━━━━━━\u001b[0m \u001b[32m159.9/159.9 kB\u001b[0m \u001b[31m10.3 MB/s\u001b[0m eta \u001b[36m0:00:00\u001b[0m\n",
      "\u001b[?25hInstalling collected packages: XlsxWriter, Pillow, lxml, python-pptx\n",
      "Successfully installed Pillow-10.3.0 XlsxWriter-3.2.0 lxml-5.2.1 python-pptx-0.6.23\n",
      "Note: you may need to restart the kernel to use updated packages.\n"
     ]
    }
   ],
   "source": [
    "pip install python-pptx beautifulsoup4 lxml\n"
   ]
  },
  {
   "cell_type": "code",
   "execution_count": 79,
   "metadata": {},
   "outputs": [],
   "source": [
    "from pptx import Presentation\n",
    "from bs4 import BeautifulSoup\n",
    "import os\n",
    "import re\n",
    "import sqlite3\n",
    "import json\n",
    "\n",
    "conn = sqlite3.connect('example.db')\n",
    "cursor = conn.cursor()\n",
    "\n",
    "# Create table\n",
    "cursor.execute('''CREATE TABLE IF NOT EXISTS powerpoint\n",
    "                (id INTEGER PRIMARY KEY, drill LIST, years TEXT, age TEXT, repayment TEXT, stipend TEXT, estimated TEXT, program TEXT)''')\n"
   ]
  },
  {
   "cell_type": "code",
   "execution_count": 42,
   "metadata": {},
   "outputs": [],
   "source": [
    "# Function to extract text from PowerPoint files\n",
    "def extract_text_from_pptx(file_path):\n",
    "    prs = Presentation(file_path)\n",
    "    text = \"\"\n",
    "    for slide in prs.slides:\n",
    "        for shape in slide.shapes:\n",
    "            if hasattr(shape, \"text\"):\n",
    "                text += shape.text\n",
    "    return text"
   ]
  },
  {
   "cell_type": "code",
   "execution_count": 102,
   "metadata": {},
   "outputs": [],
   "source": [
    "def scrape_words_of_interest(text, words_of_interest):\n",
    "    soup = BeautifulSoup(text, 'lxml')\n",
    "    words = soup.get_text().split()\n",
    "    words_and_next_7 = []\n",
    "    for i, word in enumerate(words):\n",
    "        if word in words_of_interest:\n",
    "            # Extract the next 7 words\n",
    "            next_7_words = \" \".join(words[i+1:i+8])\n",
    "            words_and_next_7.append((word, next_7_words))\n",
    "    return words_and_next_7\n",
    "\n",
    "# Function to extract numbers from text\n",
    "def extract_numbers(text):\n",
    "    numbers = re.findall(r'\\b\\d+\\b', text)\n",
    "    return numbers\n",
    "\n",
    "# Function to find numbers and their surrounding words\n",
    "def find_numbers_with_context(text):\n",
    "    pattern = r'(\\b\\w+\\b\\s+){0,5}\\b(\\d+)\\b(\\s+\\b\\w+\\b){0,5}'\n",
    "    matches = re.findall(pattern, text)\n",
    "    results = []\n",
    "    for match in matches:\n",
    "        # Combine the surrounding words with the number\n",
    "        context = \" \".join(match)\n",
    "        results.append(context)\n",
    "    return results\n",
    "list_num = []\n",
    "# Iterate through PowerPoint files in the directory\n",
    "for filename in os.listdir(pptx_directory):\n",
    "    if filename.endswith(\".pptx\"):\n",
    "        file_path = os.path.join(pptx_directory, filename)\n",
    "        text = extract_text_from_pptx(file_path)\n",
    "        numbers_with_context = find_numbers_with_context(text)\n",
    "        if numbers_with_context:\n",
    "            #print(f\"Numbers found in {filename}:\")\n",
    "            for context in numbers_with_context:\n",
    "                #print(context)\n",
    "                list_num.append(context)\n",
    "                info = dict_list(list_num)\n",
    "                sql_add(info)\n",
    "        else:\n",
    "            numbers = re.findall(r'\\b\\d+\\b', text)\n",
    "            if numbers:\n",
    "                #print(f\"Numbers found in {filename}:\")\n",
    "                for number in numbers:\n",
    "                    #print(number)\n",
    "                    list_num.append(number)"
   ]
  },
  {
   "cell_type": "code",
   "execution_count": null,
   "metadata": {},
   "outputs": [],
   "source": [
    "# Directory containing PowerPoint files\n",
    "pptx_directory = \"/Users/annivoigt/Documents/python/powerpoints\"\n",
    "# Words of interest\n",
    "words_of_interest = [\"navy\", \"carrier\", \"person\"]"
   ]
  },
  {
   "cell_type": "code",
   "execution_count": null,
   "metadata": {},
   "outputs": [],
   "source": [
    "# Iterate through PowerPoint files in the directory\n",
    "for filename in os.listdir(pptx_directory):\n",
    "    if filename.endswith(\".pptx\"):\n",
    "        file_path = os.path.join(pptx_directory, filename)\n",
    "        text = extract_text_from_pptx(file_path)\n",
    "        words_and_next_7 = scrape_words_of_interest(text, words_of_interest)\n",
    "        for word, next_7 in words_and_next_7:\n",
    "            print(f\"Word of interest '{word}' found in {filename}. Following 7 words: {next_7}\")\n"
   ]
  },
  {
   "cell_type": "code",
   "execution_count": 99,
   "metadata": {},
   "outputs": [],
   "source": [
    "def dict_list(list_num):\n",
    "    my_information = {\"drill\":[],\"years\":[], \"age\":[], \"repayment\":[], \"stipend\":[], \"estimated\":[],'program':[]}\n",
    "    for i in list_num:\n",
    "        if 'drill' in i:\n",
    "            num = re.findall(r'\\d+', i)\n",
    "            my_information[\"drill\"].append(num[0])\n",
    "        if 'years' in i:\n",
    "            num = re.findall(r'\\d+', i)\n",
    "            my_information[\"years\"].append(num[0])\n",
    "        if 'age' in i:\n",
    "            num = re.findall(r'\\d+', i)\n",
    "            my_information[\"age\"].append(num[0])\n",
    "        if 'repayment' in i:\n",
    "            num = re.findall(r'\\d+', i)\n",
    "            my_information[\"repayment\"].append(num[0])\n",
    "        if 'stipend' in i:\n",
    "            num = re.findall(r'\\d+', i)\n",
    "            my_information[\"stipend\"].append(num[0])\n",
    "        if 'estimated' in i:\n",
    "            num = re.findall(r'\\d+', i)\n",
    "            my_information[\"estimated\"].append(num[0])\n",
    "        if 'program' in i:\n",
    "            num = re.findall(r'\\d+', i)\n",
    "            my_information[\"program\"].append(num[0])\n",
    "    return(my_information)\n",
    "\n",
    "\n",
    "def sql_add(my_information):\n",
    "    age_json = json.dumps(my_information['age'])\n",
    "    drill_json = json.dumps(my_information['drill'])\n",
    "    years_json = json.dumps(my_information['years'])\n",
    "    repayment_json  = json.dumps(my_information['repayment'])\n",
    "    stipend_json = json.dumps(my_information['stipend'])\n",
    "    estimate_json = json.dumps(my_information['estimated'])\n",
    "    program_json = json.dumps(my_information['program'])\n",
    "\n",
    "    cursor.execute('INSERT INTO powerpoint (drill, years, age, repayment, stipend, estimated, program) VALUES (?, ?, ?, ?, ?, ?, ?)',\\\n",
    "            (drill_json, years_json,\\\n",
    "            age_json, repayment_json, \\\n",
    "            stipend_json, estimate_json, program_json))\n"
   ]
  },
  {
   "cell_type": "markdown",
   "metadata": {},
   "source": []
  },
  {
   "cell_type": "code",
   "execution_count": 83,
   "metadata": {},
   "outputs": [],
   "source": [
    "\n",
    "# Create table\n",
    "cursor.execute('''CREATE TABLE IF NOT EXISTS powerpoint\n",
    "                  (id INTEGER PRIMARY KEY, drill LIST, years TEXT, age TEXT, repayment TEXT, stipend TEXT, estimated TEXT, program TEXT)''')\n",
    "\n",
    "# Insert values from dictionary into the table\n",
    "cursor.execute('INSERT INTO powerpoint (drill, years, age, repayment, stipend, estimated, program) VALUES (?, ?, ?, ?, ?, ?, ?)',\\\n",
    "               (drill_json, years_json,\\\n",
    "                age_json, repayment_json, stipend_json, estimate_json, program_json))\n",
    "\n",
    "# Commit the transaction\n",
    "conn.commit()\n",
    "\n",
    "# Close connection\n",
    "conn.close() "
   ]
  },
  {
   "cell_type": "code",
   "execution_count": 106,
   "metadata": {},
   "outputs": [
    {
     "name": "stdout",
     "output_type": "stream",
     "text": [
      "[('[\"42\"]',)]\n"
     ]
    }
   ],
   "source": [
    "conn = sqlite3.connect('example.db')\n",
    "cursor = conn.cursor()\n",
    "\n",
    "\n",
    "\n",
    "def query_database(conn, query):\n",
    "    cursor = conn.cursor()\n",
    "    cursor.execute(query)\n",
    "    rows = cursor.fetchall()\n",
    "    return rows\n",
    "\n",
    "\n",
    "# Example query to select all data from the 'person' table\n",
    "query = 'SELECT age FROM powerpoint'\n",
    "\n",
    "# Query the database\n",
    "results = query_database(conn, query)\n",
    "print(results)\n",
    "\n",
    "# Close connection\n",
    "conn.close()"
   ]
  },
  {
   "cell_type": "code",
   "execution_count": null,
   "metadata": {},
   "outputs": [],
   "source": []
  },
  {
   "cell_type": "code",
   "execution_count": null,
   "metadata": {},
   "outputs": [],
   "source": []
  }
 ],
 "metadata": {
  "kernelspec": {
   "display_name": "Python 3",
   "language": "python",
   "name": "python3"
  },
  "language_info": {
   "codemirror_mode": {
    "name": "ipython",
    "version": 3
   },
   "file_extension": ".py",
   "mimetype": "text/x-python",
   "name": "python",
   "nbconvert_exporter": "python",
   "pygments_lexer": "ipython3",
   "version": "3.9.6"
  }
 },
 "nbformat": 4,
 "nbformat_minor": 2
}
