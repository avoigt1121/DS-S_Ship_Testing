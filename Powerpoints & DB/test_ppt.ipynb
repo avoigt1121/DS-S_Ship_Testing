{
 "cells": [
  {
   "cell_type": "code",
   "execution_count": 1,
   "metadata": {},
   "outputs": [
    {
     "name": "stdout",
     "output_type": "stream",
     "text": [
      "Defaulting to user installation because normal site-packages is not writeable\n",
      "Requirement already satisfied: python-pptx in /Users/annivoigt/Library/Python/3.9/lib/python/site-packages (0.6.23)\n",
      "Requirement already satisfied: beautifulsoup4 in /Users/annivoigt/Library/Python/3.9/lib/python/site-packages (4.12.3)\n",
      "Requirement already satisfied: lxml in /Users/annivoigt/Library/Python/3.9/lib/python/site-packages (5.2.1)\n",
      "Requirement already satisfied: Pillow>=3.3.2 in /Users/annivoigt/Library/Python/3.9/lib/python/site-packages (from python-pptx) (10.3.0)\n",
      "Requirement already satisfied: XlsxWriter>=0.5.7 in /Users/annivoigt/Library/Python/3.9/lib/python/site-packages (from python-pptx) (3.2.0)\n",
      "Requirement already satisfied: soupsieve>1.2 in /Users/annivoigt/Library/Python/3.9/lib/python/site-packages (from beautifulsoup4) (2.5)\n",
      "Note: you may need to restart the kernel to use updated packages.\n"
     ]
    }
   ],
   "source": [
    "pip install python-pptx beautifulsoup4 lxml\n"
   ]
  },
  {
   "cell_type": "code",
   "execution_count": 2,
   "metadata": {},
   "outputs": [
    {
     "data": {
      "text/plain": [
       "<sqlite3.Cursor at 0x10d6dd260>"
      ]
     },
     "execution_count": 2,
     "metadata": {},
     "output_type": "execute_result"
    }
   ],
   "source": [
    "from pptx import Presentation\n",
    "from bs4 import BeautifulSoup\n",
    "import os\n",
    "import re\n",
    "import sqlite3\n",
    "import json\n",
    "\n",
    "conn = sqlite3.connect('example.db')\n",
    "cursor = conn.cursor()\n",
    "\n",
    "# Create table\n",
    "cursor.execute('''CREATE TABLE IF NOT EXISTS powerpoint\n",
    "                (id INTEGER PRIMARY KEY, drill LIST, years TEXT, age TEXT, repayment TEXT, stipend TEXT, estimated TEXT, program TEXT)''')\n"
   ]
  },
  {
   "cell_type": "code",
   "execution_count": 3,
   "metadata": {},
   "outputs": [],
   "source": [
    "# Function to extract text from PowerPoint files\n",
    "def extract_text_from_pptx(file_path):\n",
    "    prs = Presentation(file_path)\n",
    "    text = \"\"\n",
    "    for slide in prs.slides:\n",
    "        for shape in slide.shapes:\n",
    "            if hasattr(shape, \"text\"):\n",
    "                text += shape.text\n",
    "    return text"
   ]
  },
  {
   "cell_type": "code",
   "execution_count": 4,
   "metadata": {},
   "outputs": [
    {
     "ename": "NameError",
     "evalue": "name 'pptx_directory' is not defined",
     "output_type": "error",
     "traceback": [
      "\u001b[0;31m---------------------------------------------------------------------------\u001b[0m",
      "\u001b[0;31mNameError\u001b[0m                                 Traceback (most recent call last)",
      "Cell \u001b[0;32mIn[4], line 29\u001b[0m\n\u001b[1;32m     27\u001b[0m list_num \u001b[38;5;241m=\u001b[39m []\n\u001b[1;32m     28\u001b[0m \u001b[38;5;66;03m# Iterate through PowerPoint files in the directory\u001b[39;00m\n\u001b[0;32m---> 29\u001b[0m \u001b[38;5;28;01mfor\u001b[39;00m filename \u001b[38;5;129;01min\u001b[39;00m os\u001b[38;5;241m.\u001b[39mlistdir(\u001b[43mpptx_directory\u001b[49m):\n\u001b[1;32m     30\u001b[0m     \u001b[38;5;28;01mif\u001b[39;00m filename\u001b[38;5;241m.\u001b[39mendswith(\u001b[38;5;124m\"\u001b[39m\u001b[38;5;124m.pptx\u001b[39m\u001b[38;5;124m\"\u001b[39m):\n\u001b[1;32m     31\u001b[0m         file_path \u001b[38;5;241m=\u001b[39m os\u001b[38;5;241m.\u001b[39mpath\u001b[38;5;241m.\u001b[39mjoin(pptx_directory, filename)\n",
      "\u001b[0;31mNameError\u001b[0m: name 'pptx_directory' is not defined"
     ]
    }
   ],
   "source": [
    "#Not Used but if you wanted to search for a word and the surrounding words\n",
    "def scrape_words_of_interest(text, words_of_interest):\n",
    "    soup = BeautifulSoup(text, 'lxml')\n",
    "    words = soup.get_text().split()\n",
    "    words_and_next_7 = []\n",
    "    for i, word in enumerate(words):\n",
    "        if word in words_of_interest:\n",
    "            # Extract the next 7 words\n",
    "            next_7_words = \" \".join(words[i+1:i+8])\n",
    "            words_and_next_7.append((word, next_7_words))\n",
    "    return words_and_next_7\n",
    "\n",
    "# Function to extract numbers from text\n",
    "def extract_numbers(text):\n",
    "    numbers = re.findall(r'\\b\\d+\\b', text)\n",
    "    return numbers\n",
    "\n",
    "# Function to find numbers and their surrounding words\n",
    "def find_numbers_with_context(text):\n",
    "    pattern = r'(\\b\\w+\\b\\s+){0,5}\\b(\\d+)\\b(\\s+\\b\\w+\\b){0,5}'\n",
    "    matches = re.findall(pattern, text)\n",
    "    results = []\n",
    "    for match in matches:\n",
    "        # Combine the surrounding words with the number\n",
    "        context = \" \".join(match)\n",
    "        results.append(context)\n",
    "    return results\n",
    "list_num = []\n",
    "# Iterate through PowerPoint files in the directory\n",
    "for filename in os.listdir(pptx_directory):\n",
    "    if filename.endswith(\".pptx\"):\n",
    "        file_path = os.path.join(pptx_directory, filename)\n",
    "        text = extract_text_from_pptx(file_path)\n",
    "        numbers_with_context = find_numbers_with_context(text)\n",
    "        if numbers_with_context:\n",
    "            #print(f\"Numbers found in {filename}:\")\n",
    "            for context in numbers_with_context:\n",
    "                #print(context)\n",
    "                list_num.append(context)\n",
    "                info = dict_list(list_num)\n",
    "                sql_add(info)\n",
    "        else:\n",
    "            numbers = re.findall(r'\\b\\d+\\b', text)\n",
    "            if numbers:\n",
    "                #print(f\"Numbers found in {filename}:\")\n",
    "                for number in numbers:\n",
    "                    #print(number)\n",
    "                    list_num.append(number)"
   ]
  },
  {
   "cell_type": "code",
   "execution_count": null,
   "metadata": {},
   "outputs": [],
   "source": [
    "# Directory containing PowerPoint files\n",
    "pptx_directory = \"/Users/annivoigt/Documents/python/powerpoints\"\n",
    "# Words of interest\n",
    "words_of_interest = [\"navy\", \"carrier\", \"person\"]"
   ]
  },
  {
   "cell_type": "code",
   "execution_count": null,
   "metadata": {},
   "outputs": [],
   "source": [
    "# Iterate through PowerPoint files in the directory\n",
    "for filename in os.listdir(pptx_directory):\n",
    "    if filename.endswith(\".pptx\"):\n",
    "        file_path = os.path.join(pptx_directory, filename)\n",
    "        text = extract_text_from_pptx(file_path)\n",
    "        words_and_next_7 = scrape_words_of_interest(text, words_of_interest)\n",
    "        for word, next_7 in words_and_next_7:\n",
    "            print(f\"Word of interest '{word}' found in {filename}. Following 7 words: {next_7}\")\n"
   ]
  },
  {
   "cell_type": "code",
   "execution_count": 6,
   "metadata": {},
   "outputs": [],
   "source": [
    "#These are words of interest that could be changed to find words that exist in Daily briefs\n",
    "def dict_list(list_num):\n",
    "    my_information = {\"drill\":[],\"years\":[], \"age\":[], \"repayment\":[], \"stipend\":[], \"estimated\":[],'program':[]}\n",
    "    for i in list_num:\n",
    "        if 'drill' in i:\n",
    "            num = re.findall(r'\\d+', i)\n",
    "            my_information[\"drill\"].append(num[0])\n",
    "        if 'years' in i:\n",
    "            num = re.findall(r'\\d+', i)\n",
    "            my_information[\"years\"].append(num[0])\n",
    "        if 'age' in i:\n",
    "            num = re.findall(r'\\d+', i)\n",
    "            my_information[\"age\"].append(num[0])\n",
    "        if 'repayment' in i:\n",
    "            num = re.findall(r'\\d+', i)\n",
    "            my_information[\"repayment\"].append(num[0])\n",
    "        if 'stipend' in i:\n",
    "            num = re.findall(r'\\d+', i)\n",
    "            my_information[\"stipend\"].append(num[0])\n",
    "        if 'estimated' in i:\n",
    "            num = re.findall(r'\\d+', i)\n",
    "            my_information[\"estimated\"].append(num[0])\n",
    "        if 'program' in i:\n",
    "            num = re.findall(r'\\d+', i)\n",
    "            my_information[\"program\"].append(num[0])\n",
    "    return(my_information)\n",
    "\n",
    "\n",
    "def sql_add(my_information):\n",
    "    age_json = json.dumps(my_information['age'])\n",
    "    drill_json = json.dumps(my_information['drill'])\n",
    "    years_json = json.dumps(my_information['years'])\n",
    "    repayment_json  = json.dumps(my_information['repayment'])\n",
    "    stipend_json = json.dumps(my_information['stipend'])\n",
    "    estimate_json = json.dumps(my_information['estimated'])\n",
    "    program_json = json.dumps(my_information['program'])\n",
    "\n",
    "    cursor.execute('INSERT INTO powerpoint (drill, years, age, repayment, stipend, estimated, program) VALUES (?, ?, ?, ?, ?, ?, ?)',\\\n",
    "            (drill_json, years_json,\\\n",
    "            age_json, repayment_json, \\\n",
    "            stipend_json, estimate_json, program_json))\n"
   ]
  },
  {
   "cell_type": "markdown",
   "metadata": {},
   "source": [
    "Below is Table edits for Future use"
   ]
  },
  {
   "cell_type": "code",
   "execution_count": null,
   "metadata": {},
   "outputs": [],
   "source": [
    "\n",
    "# Create table\n",
    "cursor.execute('''CREATE TABLE IF NOT EXISTS powerpoint\n",
    "                  (id INTEGER PRIMARY KEY, drill LIST, years TEXT, age TEXT, repayment TEXT, stipend TEXT, estimated TEXT, program TEXT)''')\n",
    "\n",
    "# Insert values from dictionary into the table\n",
    "cursor.execute('INSERT INTO powerpoint (drill, years, age, repayment, stipend, estimated, program) VALUES (?, ?, ?, ?, ?, ?, ?)',\\\n",
    "               (drill_json, years_json,\\\n",
    "                age_json, repayment_json, stipend_json, estimate_json, program_json))\n",
    "\n",
    "# Commit the transaction\n",
    "conn.commit()\n",
    "\n",
    "# Close connection\n",
    "conn.close() "
   ]
  },
  {
   "cell_type": "code",
   "execution_count": 8,
   "metadata": {},
   "outputs": [
    {
     "name": "stdout",
     "output_type": "stream",
     "text": [
      "[('[\"42\"]',)]\n"
     ]
    }
   ],
   "source": [
    "#This is how users could connect to the database and look at what exists in the database \n",
    "# -- we can create analytic products based off of this information\n",
    "conn = sqlite3.connect('example.db')\n",
    "cursor = conn.cursor()\n",
    "\n",
    "\n",
    "\n",
    "def query_database(conn, query):\n",
    "    cursor = conn.cursor()\n",
    "    cursor.execute(query)\n",
    "    rows = cursor.fetchall()\n",
    "    return rows\n",
    "\n",
    "\n",
    "# Example query to select all data from the 'person' table\n",
    "query = 'SELECT age FROM powerpoint'\n",
    "\n",
    "# Query the database\n",
    "results = query_database(conn, query)\n",
    "print(results)\n",
    "\n",
    "# Close connection\n",
    "conn.close()"
   ]
  },
  {
   "cell_type": "code",
   "execution_count": null,
   "metadata": {},
   "outputs": [],
   "source": []
  },
  {
   "cell_type": "code",
   "execution_count": null,
   "metadata": {},
   "outputs": [],
   "source": []
  }
 ],
 "metadata": {
  "kernelspec": {
   "display_name": "Python 3",
   "language": "python",
   "name": "python3"
  },
  "language_info": {
   "codemirror_mode": {
    "name": "ipython",
    "version": 3
   },
   "file_extension": ".py",
   "mimetype": "text/x-python",
   "name": "python",
   "nbconvert_exporter": "python",
   "pygments_lexer": "ipython3",
   "version": "3.9.6"
  }
 },
 "nbformat": 4,
 "nbformat_minor": 2
}
