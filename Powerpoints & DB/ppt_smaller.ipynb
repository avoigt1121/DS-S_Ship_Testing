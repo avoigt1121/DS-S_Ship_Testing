{
 "cells": [
  {
   "cell_type": "code",
   "execution_count": 1,
   "metadata": {},
   "outputs": [],
   "source": [
    "import os\n",
    "import re\n",
    "import sqlite3\n",
    "import json\n",
    "import zipfile\n",
    "#From ACS Environment\n",
    "from lxml import etree\n",
    "from datetime import datetime"
   ]
  },
  {
   "cell_type": "code",
   "execution_count": 2,
   "metadata": {},
   "outputs": [
    {
     "data": {
      "text/plain": [
       "<sqlite3.Cursor at 0x105004810>"
      ]
     },
     "execution_count": 2,
     "metadata": {},
     "output_type": "execute_result"
    }
   ],
   "source": [
    "#Connect to DB\n",
    "conn = sqlite3.connect('example.db')\n",
    "cursor = conn.cursor()\n",
    "\n",
    "# Create table\n",
    "cursor.execute('''CREATE TABLE IF NOT EXISTS powerpoint\n",
    "                (id INTEGER PRIMARY KEY, filename TEXT, created_at TEXT, last_edited_at TEXT, folder_location TEXT, drill LIST, years TEXT, age TEXT, repayment TEXT, stipend TEXT, estimated TEXT, program TEXT)''')"
   ]
  },
  {
   "cell_type": "code",
   "execution_count": 3,
   "metadata": {},
   "outputs": [],
   "source": [
    "# Function to extract text from PowerPoint files\n",
    "def extract_text_from_pptx(file_path):\n",
    "    text = \"\"\n",
    "    with zipfile.ZipFile(file_path, 'r') as zip_ref:\n",
    "        for name in zip_ref.namelist():\n",
    "            if name.startswith('ppt/slides/slide'):\n",
    "                with zip_ref.open(name) as slide_file:\n",
    "                    slide_content = slide_file.read()\n",
    "                    # Extract text from XML content\n",
    "                    xml_content = etree.fromstring(slide_content)\n",
    "                    #This text extracter uses information from XML content of the PPT. you can get to XML content by \"unzipping\" a ppt\n",
    "                    text += \" \".join(xml_content.xpath(\".//*[local-name()='t']//text()\"))\n",
    "\n",
    "    return text\n",
    "\n",
    "# Function to find numbers and their surrounding words\n",
    "#I just suggested any numbers with context of 5 words in either direction. Very arbitrary just to show capability of searching for things in a PPT.\n",
    "def find_numbers_with_context(text):\n",
    "    pattern = r'(\\b\\w+\\b\\s+){0,5}\\b(\\d+)\\b(\\s+\\b\\w+\\b){0,5}'\n",
    "    matches = re.findall(pattern, text)\n",
    "    results = []\n",
    "    for match in matches:\n",
    "        # Combine the surrounding words with the number\n",
    "        context = \" \".join(match)\n",
    "        results.append(context)\n",
    "    return results"
   ]
  },
  {
   "cell_type": "code",
   "execution_count": 4,
   "metadata": {},
   "outputs": [],
   "source": [
    "# Iterate through PowerPoint files in the directory\n",
    "pptx_directory = \"/Users/annivoigt/Documents/coding/python/DS-S_Ship_Testing/Powerpoints & DB/powerpoints\""
   ]
  },
  {
   "cell_type": "code",
   "execution_count": 5,
   "metadata": {},
   "outputs": [],
   "source": [
    "# Function to convert list of numbers to dictionary format according to various \"context\" words we care about\n",
    "def dict_list(list_num):\n",
    "    my_information = {\"drill\":[],\"years\":[], \"age\":[], \"repayment\":[], \"stipend\":[], \"estimated\":[],'program':[]}\n",
    "    for i in list_num:\n",
    "        if 'drill' in i:\n",
    "            num = re.findall(r'\\d+', i)\n",
    "            my_information[\"drill\"].append(num[0])\n",
    "        if 'years' in i:\n",
    "            num = re.findall(r'\\d+', i)\n",
    "            my_information[\"years\"].append(num[0])\n",
    "        if 'age' in i:\n",
    "            num = re.findall(r'\\d+', i)\n",
    "            my_information[\"age\"].append(num[0])\n",
    "        if 'repayment' in i:\n",
    "            num = re.findall(r'\\d+', i)\n",
    "            my_information[\"repayment\"].append(num[0])\n",
    "        if 'stipend' in i:\n",
    "            num = re.findall(r'\\d+', i)\n",
    "            my_information[\"stipend\"].append(num[0])\n",
    "        if 'estimated' in i:\n",
    "            num = re.findall(r'\\d+', i)\n",
    "            my_information[\"estimated\"].append(num[0])\n",
    "        if 'program' in i:\n",
    "            num = re.findall(r'\\d+', i)\n",
    "            my_information[\"program\"].append(num[0])\n",
    "    return my_information"
   ]
  },
  {
   "cell_type": "code",
   "execution_count": 6,
   "metadata": {},
   "outputs": [],
   "source": [
    "# Function to insert data into SQLite database\n",
    "def sql_add(filename, created_at, last_edited_at, folder_location, my_information):\n",
    "    age_json = json.dumps(my_information['age'])\n",
    "    drill_json = json.dumps(my_information['drill'])\n",
    "    years_json = json.dumps(my_information['years'])\n",
    "    repayment_json  = json.dumps(my_information['repayment'])\n",
    "    stipend_json = json.dumps(my_information['stipend'])\n",
    "    estimate_json = json.dumps(my_information['estimated'])\n",
    "    program_json = json.dumps(my_information['program'])\n",
    "\n",
    "    cursor.execute('INSERT INTO powerpoint (filename, created_at, last_edited_at, folder_location, drill, years, age, repayment, stipend, estimated, program) VALUES (?,?,?, ?, ?, ?, ?, ?, ?, ?, ?)',\\\n",
    "            (filename, created_at, last_edited_at, folder_location, drill_json, years_json,\\\n",
    "            age_json, repayment_json, \\\n",
    "            stipend_json, estimate_json, program_json))"
   ]
  },
  {
   "cell_type": "code",
   "execution_count": 7,
   "metadata": {},
   "outputs": [],
   "source": [
    "def delete_duplicates():\n",
    "    # Connect to the SQLite database\n",
    "\n",
    "    try:\n",
    "        # Identify the criteria for determining duplicate entries\n",
    "        # For example, let's say we want to delete rows with duplicate 'name' column\n",
    "        cursor.execute('''\n",
    "            DELETE FROM powerpoint\n",
    "            WHERE id NOT IN (\n",
    "                SELECT MIN(id)\n",
    "                FROM powerpoint\n",
    "                GROUP BY filename\n",
    "            )\n",
    "        ''')\n",
    "        print(\"Duplicate entries deleted successfully.\")\n",
    "    except sqlite3.Error as e:\n",
    "        print(\"Error deleting duplicates:\", e)\n"
   ]
  },
  {
   "cell_type": "code",
   "execution_count": 8,
   "metadata": {},
   "outputs": [
    {
     "name": "stdout",
     "output_type": "stream",
     "text": [
      "{'drill': [], 'years': [], 'age': [], 'repayment': [], 'stipend': [], 'estimated': [], 'program': []}\n",
      "{'drill': ['000'], 'years': ['000'], 'age': ['42'], 'repayment': ['000'], 'stipend': ['200'], 'estimated': ['00'], 'program': ['3']}\n",
      "Duplicate entries deleted successfully.\n"
     ]
    }
   ],
   "source": [
    "list_num = []\n",
    "# Iterate through PowerPoint files in the directory\n",
    "\n",
    "for filename in os.listdir(pptx_directory):\n",
    "    if filename.endswith(\".pptx\"):\n",
    "        file_path = os.path.join(pptx_directory, filename)\n",
    "        last_modified_time = os.path.getmtime(file_path)\n",
    "        folder_location = os.path.dirname(file_path)\n",
    "        file_stats = os.stat(file_path)\n",
    "        created_at = datetime.fromtimestamp(file_stats.st_ctime).strftime('%Y-%m-%d %H:%M:%S')\n",
    "        text = extract_text_from_pptx(file_path)\n",
    "        numbers_with_context = find_numbers_with_context(text)\n",
    "        if numbers_with_context:\n",
    "            for context in numbers_with_context:\n",
    "                list_num.append(context)\n",
    "            info = dict_list(list_num)\n",
    "            print(info)\n",
    "            sql_add(filename, created_at, last_modified_time, folder_location, info)\n",
    "            # Call the function to delete duplicate entries\n",
    "        else:\n",
    "            numbers = re.findall(r'\\b\\d+\\b', text)\n",
    "            if numbers:\n",
    "                for number in numbers:\n",
    "                    list_num.append(number)\n",
    "                info = dict_list(list_num)\n",
    "                created_at = datetime.now().strftime('%Y-%m-%d %H:%M:%S')\n",
    "                sql_add(filename, created_at,last_modified_time, folder_location, info)\n",
    "                # Call the function to delete duplicate entries\n",
    "\n",
    "delete_duplicates()\n",
    "\n",
    "\n",
    "\n",
    "\n"
   ]
  },
  {
   "cell_type": "code",
   "execution_count": 9,
   "metadata": {},
   "outputs": [],
   "source": [
    "# Commit the transaction\n",
    "conn.commit()\n",
    "\n",
    "# Close connection\n",
    "conn.close()"
   ]
  },
  {
   "cell_type": "code",
   "execution_count": 10,
   "metadata": {},
   "outputs": [
    {
     "name": "stdout",
     "output_type": "stream",
     "text": [
      "[('/Users/annivoigt/Documents/coding/python/DS-S_Ship_Testing/Powerpoints & DB/powerpoints',), ('/Users/annivoigt/Documents/coding/python/DS-S_Ship_Testing/Powerpoints & DB/powerpoints',)]\n"
     ]
    }
   ],
   "source": [
    "#This is how users could connect to the database and look at what exists in the database \n",
    "# -- we can create analytic products based off of this information\n",
    "conn = sqlite3.connect('example.db')\n",
    "cursor = conn.cursor()\n",
    "\n",
    "\n",
    "\n",
    "def query_database(conn, query):\n",
    "    cursor = conn.cursor()\n",
    "    cursor.execute(query)\n",
    "    rows = cursor.fetchall()\n",
    "    return rows\n",
    "\n",
    "\n",
    "# Example query to select all data from the 'person' table\n",
    "query = 'SELECT folder_location FROM powerpoint'\n",
    "\n",
    "# Query the database\n",
    "results = query_database(conn, query)\n",
    "print(results)\n",
    "\n",
    "# Close connection\n",
    "conn.close()"
   ]
  },
  {
   "cell_type": "code",
   "execution_count": 11,
   "metadata": {},
   "outputs": [
    {
     "name": "stdout",
     "output_type": "stream",
     "text": [
      "File names associated with entries having 'years':\n",
      "Nuclear_Officer_Presentation.pptx\n",
      "TMS_presentation.pptx\n"
     ]
    }
   ],
   "source": [
    "# Connect to the SQLite database\n",
    "conn = sqlite3.connect('example.db')\n",
    "cursor = conn.cursor()\n",
    "\n",
    "# Define the SQL query\n",
    "query = \"SELECT filename FROM powerpoint WHERE years IS NOT NULL\"\n",
    "\n",
    "# Execute the query\n",
    "cursor.execute(query)\n",
    "\n",
    "# Fetch all the matching rows\n",
    "rows = cursor.fetchall()\n",
    "\n",
    "# Extract the filenames from the rows\n",
    "file_names = [row[0] for row in rows]\n",
    "\n",
    "# Print the filenames\n",
    "print(\"File names associated with entries having 'years':\")\n",
    "for file_name in file_names:\n",
    "    print(file_name)\n",
    "\n",
    "# Close the connection\n",
    "conn.close()\n"
   ]
  },
  {
   "cell_type": "code",
   "execution_count": 12,
   "metadata": {},
   "outputs": [
    {
     "name": "stdout",
     "output_type": "stream",
     "text": [
      "File names:\n",
      "Nuclear_Officer_Presentation.pptx\n",
      "TMS_presentation.pptx\n"
     ]
    }
   ],
   "source": [
    "# Connect to the SQLite database\n",
    "conn = sqlite3.connect('example.db')\n",
    "cursor = conn.cursor()\n",
    "\n",
    "# Define the SQL query\n",
    "query = \"SELECT filename FROM powerpoint\"\n",
    "\n",
    "# Execute the query\n",
    "cursor.execute(query)\n",
    "\n",
    "# Fetch all the matching rows\n",
    "rows = cursor.fetchall()\n",
    "\n",
    "# Extract the filenames from the rows\n",
    "file_names = [row[0] for row in rows]\n",
    "\n",
    "# Print the filenames\n",
    "print(\"File names:\")\n",
    "for file_name in file_names:\n",
    "    print(file_name)\n",
    "\n",
    "# Close the connection\n",
    "conn.close()"
   ]
  }
 ],
 "metadata": {
  "kernelspec": {
   "display_name": "Python 3",
   "language": "python",
   "name": "python3"
  },
  "language_info": {
   "codemirror_mode": {
    "name": "ipython",
    "version": 3
   },
   "file_extension": ".py",
   "mimetype": "text/x-python",
   "name": "python",
   "nbconvert_exporter": "python",
   "pygments_lexer": "ipython3",
   "version": "3.9.6"
  }
 },
 "nbformat": 4,
 "nbformat_minor": 2
}
