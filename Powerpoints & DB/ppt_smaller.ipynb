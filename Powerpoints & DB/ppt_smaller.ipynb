{
 "cells": [
  {
   "cell_type": "code",
   "execution_count": 2,
   "metadata": {},
   "outputs": [],
   "source": [
    "import os\n",
    "import re\n",
    "import sqlite3\n",
    "import json\n",
    "import zipfile\n",
    "from bs4 import BeautifulSoup\n",
    "from lxml import etree\n"
   ]
  },
  {
   "cell_type": "code",
   "execution_count": 3,
   "metadata": {},
   "outputs": [
    {
     "data": {
      "text/plain": [
       "<sqlite3.Cursor at 0x10876cf10>"
      ]
     },
     "execution_count": 3,
     "metadata": {},
     "output_type": "execute_result"
    }
   ],
   "source": [
    "conn = sqlite3.connect('example.db')\n",
    "cursor = conn.cursor()\n",
    "\n",
    "# Create table\n",
    "cursor.execute('''CREATE TABLE IF NOT EXISTS powerpoint\n",
    "                (id INTEGER PRIMARY KEY, drill LIST, years TEXT, age TEXT, repayment TEXT, stipend TEXT, estimated TEXT, program TEXT)''')"
   ]
  },
  {
   "cell_type": "code",
   "execution_count": 15,
   "metadata": {},
   "outputs": [],
   "source": [
    "# Function to extract text from PowerPoint files\n",
    "def extract_text_from_pptx(file_path):\n",
    "    text = \"\"\n",
    "    with zipfile.ZipFile(file_path, 'r') as zip_ref:\n",
    "        for name in zip_ref.namelist():\n",
    "            if name.startswith('ppt/slides/slide'):\n",
    "                with zip_ref.open(name) as slide_file:\n",
    "                    slide_content = slide_file.read()\n",
    "                    # Extract text from XML content\n",
    "                    xml_content = etree.fromstring(slide_content)\n",
    "                    text += \" \".join(xml_content.xpath(\".//*[local-name()='t']//text()\"))\n",
    "\n",
    "    return text\n",
    "\n",
    "# Function to find numbers and their surrounding words\n",
    "def find_numbers_with_context(text):\n",
    "    pattern = r'(\\b\\w+\\b\\s+){0,5}\\b(\\d+)\\b(\\s+\\b\\w+\\b){0,5}'\n",
    "    matches = re.findall(pattern, text)\n",
    "    results = []\n",
    "    for match in matches:\n",
    "        # Combine the surrounding words with the number\n",
    "        context = \" \".join(match)\n",
    "        results.append(context)\n",
    "    return results"
   ]
  },
  {
   "cell_type": "code",
   "execution_count": 16,
   "metadata": {},
   "outputs": [],
   "source": [
    "# Iterate through PowerPoint files in the directory\n",
    "pptx_directory = \"/Users/annivoigt/Documents/coding/python/DS-S_Ship_Testing/Powerpoints & DB/powerpoints\""
   ]
  },
  {
   "cell_type": "code",
   "execution_count": 18,
   "metadata": {},
   "outputs": [],
   "source": [
    "# Function to convert list of numbers to dictionary format\n",
    "def dict_list(list_num):\n",
    "    my_information = {\"drill\":[],\"years\":[], \"age\":[], \"repayment\":[], \"stipend\":[], \"estimated\":[],'program':[]}\n",
    "    for i in list_num:\n",
    "        if 'drill' in i:\n",
    "            num = re.findall(r'\\d+', i)\n",
    "            my_information[\"drill\"].append(num[0])\n",
    "        if 'years' in i:\n",
    "            num = re.findall(r'\\d+', i)\n",
    "            my_information[\"years\"].append(num[0])\n",
    "        if 'age' in i:\n",
    "            num = re.findall(r'\\d+', i)\n",
    "            my_information[\"age\"].append(num[0])\n",
    "        if 'repayment' in i:\n",
    "            num = re.findall(r'\\d+', i)\n",
    "            my_information[\"repayment\"].append(num[0])\n",
    "        if 'stipend' in i:\n",
    "            num = re.findall(r'\\d+', i)\n",
    "            my_information[\"stipend\"].append(num[0])\n",
    "        if 'estimated' in i:\n",
    "            num = re.findall(r'\\d+', i)\n",
    "            my_information[\"estimated\"].append(num[0])\n",
    "        if 'program' in i:\n",
    "            num = re.findall(r'\\d+', i)\n",
    "            my_information[\"program\"].append(num[0])\n",
    "    return my_information"
   ]
  },
  {
   "cell_type": "code",
   "execution_count": 20,
   "metadata": {},
   "outputs": [],
   "source": [
    "# Function to insert data into SQLite database\n",
    "def sql_add(my_information):\n",
    "    age_json = json.dumps(my_information['age'])\n",
    "    drill_json = json.dumps(my_information['drill'])\n",
    "    years_json = json.dumps(my_information['years'])\n",
    "    repayment_json  = json.dumps(my_information['repayment'])\n",
    "    stipend_json = json.dumps(my_information['stipend'])\n",
    "    estimate_json = json.dumps(my_information['estimated'])\n",
    "    program_json = json.dumps(my_information['program'])\n",
    "\n",
    "    cursor.execute('INSERT INTO powerpoint (drill, years, age, repayment, stipend, estimated, program) VALUES (?, ?, ?, ?, ?, ?, ?)',\\\n",
    "            (drill_json, years_json,\\\n",
    "            age_json, repayment_json, \\\n",
    "            stipend_json, estimate_json, program_json))"
   ]
  },
  {
   "cell_type": "code",
   "execution_count": 21,
   "metadata": {},
   "outputs": [],
   "source": [
    "list_num = []\n",
    "for filename in os.listdir(pptx_directory):\n",
    "    if filename.endswith(\".pptx\"):\n",
    "        file_path = os.path.join(pptx_directory, filename)\n",
    "        text = extract_text_from_pptx(file_path)\n",
    "        numbers_with_context = find_numbers_with_context(text)\n",
    "        if numbers_with_context:\n",
    "            for context in numbers_with_context:\n",
    "                list_num.append(context)\n",
    "                info = dict_list(list_num)\n",
    "                sql_add(info)\n",
    "        else:\n",
    "            numbers = re.findall(r'\\b\\d+\\b', text)\n",
    "            if numbers:\n",
    "                for number in numbers:\n",
    "                    list_num.append(number)"
   ]
  },
  {
   "cell_type": "code",
   "execution_count": 22,
   "metadata": {},
   "outputs": [],
   "source": [
    "# Commit the transaction\n",
    "conn.commit()\n",
    "\n",
    "# Close connection\n",
    "conn.close()"
   ]
  },
  {
   "cell_type": "code",
   "execution_count": 24,
   "metadata": {},
   "outputs": [
    {
     "name": "stdout",
     "output_type": "stream",
     "text": [
      "[('[\"000\"]',), ('[]',), ('[]',), ('[]',), ('[]',), ('[]',), ('[]',), ('[]',), ('[]',), ('[]',), ('[]',), ('[]',), ('[]',), ('[]',), ('[]',), ('[]',), ('[]',), ('[]',), ('[\"000\"]',), ('[\"000\"]',), ('[\"000\"]',), ('[\"000\"]',), ('[\"000\"]',), ('[\"000\"]',), ('[\"000\"]',), ('[\"000\"]',), ('[\"000\"]',), ('[\"000\"]',), ('[\"000\"]',), ('[\"000\"]',), ('[\"000\"]',), ('[\"000\"]',), ('[\"000\"]',), ('[\"000\"]',), ('[\"000\"]',), ('[\"000\"]',), ('[\"000\"]',), ('[\"000\"]',), ('[\"000\"]',), ('[\"000\"]',), ('[\"000\"]',), ('[\"000\"]',), ('[\"000\"]',), ('[\"000\"]',), ('[\"000\"]',), ('[\"000\"]',), ('[\"000\"]',), ('[\"000\"]',), ('[\"000\"]',), ('[\"000\"]',)]\n"
     ]
    }
   ],
   "source": [
    "#This is how users could connect to the database and look at what exists in the database \n",
    "# -- we can create analytic products based off of this information\n",
    "conn = sqlite3.connect('example.db')\n",
    "cursor = conn.cursor()\n",
    "\n",
    "\n",
    "\n",
    "def query_database(conn, query):\n",
    "    cursor = conn.cursor()\n",
    "    cursor.execute(query)\n",
    "    rows = cursor.fetchall()\n",
    "    return rows\n",
    "\n",
    "\n",
    "# Example query to select all data from the 'person' table\n",
    "query = 'SELECT drill FROM powerpoint'\n",
    "\n",
    "# Query the database\n",
    "results = query_database(conn, query)\n",
    "print(results)\n",
    "\n",
    "# Close connection\n",
    "conn.close()"
   ]
  },
  {
   "cell_type": "code",
   "execution_count": null,
   "metadata": {},
   "outputs": [],
   "source": []
  }
 ],
 "metadata": {
  "kernelspec": {
   "display_name": "Python 3",
   "language": "python",
   "name": "python3"
  },
  "language_info": {
   "codemirror_mode": {
    "name": "ipython",
    "version": 3
   },
   "file_extension": ".py",
   "mimetype": "text/x-python",
   "name": "python",
   "nbconvert_exporter": "python",
   "pygments_lexer": "ipython3",
   "version": "3.9.6"
  }
 },
 "nbformat": 4,
 "nbformat_minor": 2
}
